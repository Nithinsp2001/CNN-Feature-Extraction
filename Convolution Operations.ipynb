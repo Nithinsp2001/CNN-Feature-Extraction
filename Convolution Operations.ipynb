import numpy as np
import tensorflow as tf

# Disable eager execution warning (for older TF versions)
tf.compat.v1.disable_eager_execution()

# 1. Define the 5×5 input matrix
input_matrix = np.array([
    [1, 2, 3, 4, 5],
    [6, 7, 8, 9, 10],
    [11, 12, 13, 14, 15],
    [16, 17, 18, 19, 20],
    [21, 22, 23, 24, 25]
], dtype=np.float32)

# 2. Define the 3×3 kernel
kernel = np.array([
    [0, 1, 0],
    [1, -4, 1],
    [0, 1, 0]
], dtype=np.float32)

# Reshape input and kernel to match TensorFlow format
input_tensor = tf.constant(input_matrix.reshape(1, 5, 5, 1))  # shape = (batch, height, width, channels)
kernel_tensor = tf.constant(kernel.reshape(3, 3, 1, 1))        # shape = (filter_height, filter_width, in_channels, out_channels)

# 3. Define a function to perform convolution
def run_convolution(stride=1, padding='VALID'):
    strides = [1, stride, stride, 1]
    conv = tf.nn.conv2d(input_tensor, kernel_tensor, strides=strides, padding=padding)
    with tf.compat.v1.Session() as sess:
        result = sess.run(conv)
    return result[0, :, :, 0]  # remove batch and channel dimensions

# 4. Perform convolution with different settings
output_1 = run_convolution(stride=1, padding='VALID')
output_2 = run_convolution(stride=1, padding='SAME')
output_3 = run_convolution(stride=2, padding='VALID')
output_4 = run_convolution(stride=2, padding='SAME')

# 5. Print the output feature maps
print("Stride = 1, Padding = 'VALID':\n", output_1)
print("\nStride = 1, Padding = 'SAME':\n", output_2)
print("\nStride = 2, Padding = 'VALID':\n", output_3)
print("\nStride = 2, Padding = 'SAME':\n", output_4)
